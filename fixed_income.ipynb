{
 "cells": [
  {
   "cell_type": "code",
   "execution_count": 2,
   "id": "4f0af6aa",
   "metadata": {},
   "outputs": [],
   "source": [
    "import datetime\n",
    "import decimal\n",
    "import pydantic\n",
    "import enum\n",
    "from typing import *\n",
    "import warnings\n",
    "import QuantLib as ql\n",
    "import pandas as pd\n",
    "import numpy as np\n",
    "\n",
    "import finsec as fs"
   ]
  },
  {
   "cell_type": "code",
   "execution_count": 3,
   "id": "dfe7484d",
   "metadata": {},
   "outputs": [],
   "source": [
    "# fs.fixed_income_objs.Period(period='1y').model_dump()\n",
    "\n",
    "## autoeload info:\n",
    "%load_ext autoreload\n",
    "%autoreload 2"
   ]
  },
  {
   "cell_type": "code",
   "execution_count": 4,
   "id": "5405ead9",
   "metadata": {},
   "outputs": [],
   "source": [
    "# BusinessDayConvention.following.to_ql()\n",
    "# BusinessDayConvention.from_ql(ql.Following)"
   ]
  },
  {
   "cell_type": "code",
   "execution_count": 5,
   "id": "cb87e933",
   "metadata": {},
   "outputs": [],
   "source": [
    "import json\n",
    "import functools\n",
    "from operator import add, sub, mul\n",
    "\n",
    "T = TypeVar('T')\n",
    "ListOrT = Union[List[T], T]\n",
    "\n"
   ]
  },
  {
   "cell_type": "code",
   "execution_count": 8,
   "id": "076c2815",
   "metadata": {},
   "outputs": [
    {
     "name": "stdout",
     "output_type": "stream",
     "text": [
      "3\n"
     ]
    },
    {
     "data": {
      "text/html": [
       "<div>\n",
       "<style scoped>\n",
       "    .dataframe tbody tr th:only-of-type {\n",
       "        vertical-align: middle;\n",
       "    }\n",
       "\n",
       "    .dataframe tbody tr th {\n",
       "        vertical-align: top;\n",
       "    }\n",
       "\n",
       "    .dataframe thead th {\n",
       "        text-align: right;\n",
       "    }\n",
       "</style>\n",
       "<table border=\"1\" class=\"dataframe\">\n",
       "  <thead>\n",
       "    <tr style=\"text-align: right;\">\n",
       "      <th></th>\n",
       "      <th>start</th>\n",
       "      <th>end</th>\n",
       "      <th>frac</th>\n",
       "    </tr>\n",
       "  </thead>\n",
       "  <tbody>\n",
       "    <tr>\n",
       "      <th>0</th>\n",
       "      <td>2025-01-01</td>\n",
       "      <td>2025-02-01</td>\n",
       "      <td>0.083333</td>\n",
       "    </tr>\n",
       "    <tr>\n",
       "      <th>1</th>\n",
       "      <td>2025-02-01</td>\n",
       "      <td>2025-03-01</td>\n",
       "      <td>0.083333</td>\n",
       "    </tr>\n",
       "    <tr>\n",
       "      <th>2</th>\n",
       "      <td>2025-03-01</td>\n",
       "      <td>2025-04-01</td>\n",
       "      <td>0.083333</td>\n",
       "    </tr>\n",
       "  </tbody>\n",
       "</table>\n",
       "</div>"
      ],
      "text/plain": [
       "        start         end      frac\n",
       "0  2025-01-01  2025-02-01  0.083333\n",
       "1  2025-02-01  2025-03-01  0.083333\n",
       "2  2025-03-01  2025-04-01  0.083333"
      ]
     },
     "execution_count": 8,
     "metadata": {},
     "output_type": "execute_result"
    }
   ],
   "source": [
    "acc1 = fs.AccrualInfo(\n",
    "    start=datetime.date(2025,1,1),\n",
    "    # end=datetime.date(2025,11,5),\n",
    "    end='3m',\n",
    "    period='1m',\n",
    "    dc=fs.DayCount.Thirty360,\n",
    "    front_stub_not_back=False,\n",
    ")\n",
    "# acc1.as_ql().dates()\n",
    "print(len(acc1))\n",
    "acc1.schedule().to_df()"
   ]
  },
  {
   "cell_type": "code",
   "execution_count": 9,
   "id": "cd1c9b94",
   "metadata": {},
   "outputs": [
    {
     "name": "stdout",
     "output_type": "stream",
     "text": [
      "{\n",
      "    \"start\": \"2025-01-01\",\n",
      "    \"end\": {\n",
      "        \"period\": \"3M\"\n",
      "    },\n",
      "    \"dc\": \"30/360\",\n",
      "    \"freq\": null,\n",
      "    \"cal_accrual\": \"null\",\n",
      "    \"cal_pay\": \"null\",\n",
      "    \"period\": {\n",
      "        \"period\": \"1M\"\n",
      "    },\n",
      "    \"bdc\": \"F\",\n",
      "    \"front_stub_not_back\": false,\n",
      "    \"eom\": false\n",
      "}\n"
     ]
    },
    {
     "data": {
      "text/plain": [
       "AccrualInfo(start=datetime.date(2025, 1, 1), end=Period(\"3M\"), dc=<DayCount.Thirty360: '30/360'>, freq=None, cal_accrual=<Calendar.NULL: 'null'>, cal_pay=<Calendar.NULL: 'null'>, period=Period(\"1M\"), bdc=<BusinessDayConvention.following: 'F'>, front_stub_not_back=False, eom=False)"
      ]
     },
     "execution_count": 9,
     "metadata": {},
     "output_type": "execute_result"
    }
   ],
   "source": [
    "print(json.dumps(json.loads(acc1.model_dump_json()), indent=4))\n",
    "fs.AccrualInfo.model_validate_json(acc1.model_dump_json())"
   ]
  },
  {
   "cell_type": "code",
   "execution_count": 10,
   "id": "93693891",
   "metadata": {},
   "outputs": [
    {
     "data": {
      "text/plain": [
       "(Decimal('10.005'), True)"
      ]
     },
     "execution_count": 10,
     "metadata": {},
     "output_type": "execute_result"
    }
   ],
   "source": [
    "expr1 = fs.FixedRate(rate=decimal.Decimal('0.05')) * (decimal.Decimal('1')/10) + 10\n",
    "\n",
    "expr1.get_fixing(None), expr1.is_constant"
   ]
  },
  {
   "cell_type": "code",
   "execution_count": 11,
   "id": "1e19c893",
   "metadata": {},
   "outputs": [],
   "source": [
    "dc = ql.Actual360()\n",
    "\n",
    "# for x in dir(dc):\n",
    "#     print(x)"
   ]
  },
  {
   "cell_type": "code",
   "execution_count": 12,
   "id": "40815b93",
   "metadata": {},
   "outputs": [
    {
     "data": {
      "text/plain": [
       "{'components': [{}, {}], 'operator': <ExprOperator.ADD: 'ADD'>}"
      ]
     },
     "execution_count": 12,
     "metadata": {},
     "output_type": "execute_result"
    }
   ],
   "source": [
    "expr1.model_dump()"
   ]
  },
  {
   "cell_type": "code",
   "execution_count": 13,
   "id": "14f3a160",
   "metadata": {},
   "outputs": [
    {
     "name": "stdout",
     "output_type": "stream",
     "text": [
      "notional=Decimal('1000000') leg=Leg(notional=Decimal('1000000'), cpn=FixedRate(rate=Decimal('0.01'), is_constant=True, is_float=False), acc=AccrualInfo(start=datetime.date(2025, 1, 1), end=datetime.date(2026, 1, 1), dc=<DayCount.Thirty360: '30/360'>, freq=Decimal('12'), cal_accrual=<Calendar.NULL: 'null'>, cal_pay=<Calendar.NULL: 'null'>, period=None, bdc=<BusinessDayConvention.unadjusted: 'U'>, front_stub_not_back=True, eom=False), pay_delay=None) settle_days=1 credit_index=None face=100 settle=None redemption=None\n"
     ]
    }
   ],
   "source": [
    "ntnl = 1_000_000\n",
    "fixleg1 = fs.Leg(\n",
    "    notional=ntnl,\n",
    "    cpn=fs.FixedRate(rate=decimal.Decimal('0.01')),\n",
    "    acc=fs.AccrualInfo(\n",
    "        start=datetime.date(2025,1,1),\n",
    "        end=datetime.date(2026,1,1),\n",
    "        dc=fs.DayCount.Thirty360,\n",
    "        freq=12,\n",
    "        bdc=fs.BusinessDayConvention.unadjusted,\n",
    "    )\n",
    ")\n",
    "# print(fixleg1)\n",
    "\n",
    "bnd1 = fs.Bond(\n",
    "    notional=ntnl,\n",
    "    leg=fixleg1,\n",
    "    # settle: datetime.date\n",
    "    settle_days=1\n",
    ")\n",
    "print(bnd1)\n",
    "ql_bnd1 = bnd1.as_quantlib()"
   ]
  },
  {
   "cell_type": "code",
   "execution_count": 15,
   "id": "dfbe4eed",
   "metadata": {},
   "outputs": [
    {
     "data": {
      "text/html": [
       "<style type=\"text/css\">\n",
       "</style>\n",
       "<table id=\"T_9bf6c\">\n",
       "  <thead>\n",
       "    <tr>\n",
       "      <th class=\"blank level0\" >&nbsp;</th>\n",
       "      <th id=\"T_9bf6c_level0_col0\" class=\"col_heading level0 col0\" >start</th>\n",
       "      <th id=\"T_9bf6c_level0_col1\" class=\"col_heading level0 col1\" >end</th>\n",
       "      <th id=\"T_9bf6c_level0_col2\" class=\"col_heading level0 col2\" >frac</th>\n",
       "      <th id=\"T_9bf6c_level0_col3\" class=\"col_heading level0 col3\" >date</th>\n",
       "      <th id=\"T_9bf6c_level0_col4\" class=\"col_heading level0 col4\" >amount</th>\n",
       "      <th id=\"T_9bf6c_level0_col5\" class=\"col_heading level0 col5\" >has_occurred</th>\n",
       "      <th id=\"T_9bf6c_level0_col6\" class=\"col_heading level0 col6\" >rate</th>\n",
       "    </tr>\n",
       "  </thead>\n",
       "  <tbody>\n",
       "    <tr>\n",
       "      <th id=\"T_9bf6c_level0_row0\" class=\"row_heading level0 row0\" >0</th>\n",
       "      <td id=\"T_9bf6c_row0_col0\" class=\"data row0 col0\" >2025-01-01</td>\n",
       "      <td id=\"T_9bf6c_row0_col1\" class=\"data row0 col1\" >2025-02-01</td>\n",
       "      <td id=\"T_9bf6c_row0_col2\" class=\"data row0 col2\" >0.083333</td>\n",
       "      <td id=\"T_9bf6c_row0_col3\" class=\"data row0 col3\" >2025-02-01</td>\n",
       "      <td id=\"T_9bf6c_row0_col4\" class=\"data row0 col4\" >833.33</td>\n",
       "      <td id=\"T_9bf6c_row0_col5\" class=\"data row0 col5\" >True</td>\n",
       "      <td id=\"T_9bf6c_row0_col6\" class=\"data row0 col6\" >0.010000</td>\n",
       "    </tr>\n",
       "    <tr>\n",
       "      <th id=\"T_9bf6c_level0_row1\" class=\"row_heading level0 row1\" >1</th>\n",
       "      <td id=\"T_9bf6c_row1_col0\" class=\"data row1 col0\" >2025-02-01</td>\n",
       "      <td id=\"T_9bf6c_row1_col1\" class=\"data row1 col1\" >2025-03-01</td>\n",
       "      <td id=\"T_9bf6c_row1_col2\" class=\"data row1 col2\" >0.083333</td>\n",
       "      <td id=\"T_9bf6c_row1_col3\" class=\"data row1 col3\" >2025-03-01</td>\n",
       "      <td id=\"T_9bf6c_row1_col4\" class=\"data row1 col4\" >833.33</td>\n",
       "      <td id=\"T_9bf6c_row1_col5\" class=\"data row1 col5\" >True</td>\n",
       "      <td id=\"T_9bf6c_row1_col6\" class=\"data row1 col6\" >0.010000</td>\n",
       "    </tr>\n",
       "    <tr>\n",
       "      <th id=\"T_9bf6c_level0_row2\" class=\"row_heading level0 row2\" >2</th>\n",
       "      <td id=\"T_9bf6c_row2_col0\" class=\"data row2 col0\" >2025-03-01</td>\n",
       "      <td id=\"T_9bf6c_row2_col1\" class=\"data row2 col1\" >2025-04-01</td>\n",
       "      <td id=\"T_9bf6c_row2_col2\" class=\"data row2 col2\" >0.083333</td>\n",
       "      <td id=\"T_9bf6c_row2_col3\" class=\"data row2 col3\" >2025-04-01</td>\n",
       "      <td id=\"T_9bf6c_row2_col4\" class=\"data row2 col4\" >833.33</td>\n",
       "      <td id=\"T_9bf6c_row2_col5\" class=\"data row2 col5\" >True</td>\n",
       "      <td id=\"T_9bf6c_row2_col6\" class=\"data row2 col6\" >0.010000</td>\n",
       "    </tr>\n",
       "    <tr>\n",
       "      <th id=\"T_9bf6c_level0_row3\" class=\"row_heading level0 row3\" >3</th>\n",
       "      <td id=\"T_9bf6c_row3_col0\" class=\"data row3 col0\" >2025-04-01</td>\n",
       "      <td id=\"T_9bf6c_row3_col1\" class=\"data row3 col1\" >2025-05-01</td>\n",
       "      <td id=\"T_9bf6c_row3_col2\" class=\"data row3 col2\" >0.083333</td>\n",
       "      <td id=\"T_9bf6c_row3_col3\" class=\"data row3 col3\" >2025-05-01</td>\n",
       "      <td id=\"T_9bf6c_row3_col4\" class=\"data row3 col4\" >833.33</td>\n",
       "      <td id=\"T_9bf6c_row3_col5\" class=\"data row3 col5\" >True</td>\n",
       "      <td id=\"T_9bf6c_row3_col6\" class=\"data row3 col6\" >0.010000</td>\n",
       "    </tr>\n",
       "    <tr>\n",
       "      <th id=\"T_9bf6c_level0_row4\" class=\"row_heading level0 row4\" >4</th>\n",
       "      <td id=\"T_9bf6c_row4_col0\" class=\"data row4 col0\" >2025-05-01</td>\n",
       "      <td id=\"T_9bf6c_row4_col1\" class=\"data row4 col1\" >2025-06-01</td>\n",
       "      <td id=\"T_9bf6c_row4_col2\" class=\"data row4 col2\" >0.083333</td>\n",
       "      <td id=\"T_9bf6c_row4_col3\" class=\"data row4 col3\" >2025-06-01</td>\n",
       "      <td id=\"T_9bf6c_row4_col4\" class=\"data row4 col4\" >833.33</td>\n",
       "      <td id=\"T_9bf6c_row4_col5\" class=\"data row4 col5\" >True</td>\n",
       "      <td id=\"T_9bf6c_row4_col6\" class=\"data row4 col6\" >0.010000</td>\n",
       "    </tr>\n",
       "    <tr>\n",
       "      <th id=\"T_9bf6c_level0_row5\" class=\"row_heading level0 row5\" >5</th>\n",
       "      <td id=\"T_9bf6c_row5_col0\" class=\"data row5 col0\" >2025-06-01</td>\n",
       "      <td id=\"T_9bf6c_row5_col1\" class=\"data row5 col1\" >2025-07-01</td>\n",
       "      <td id=\"T_9bf6c_row5_col2\" class=\"data row5 col2\" >0.083333</td>\n",
       "      <td id=\"T_9bf6c_row5_col3\" class=\"data row5 col3\" >2025-07-01</td>\n",
       "      <td id=\"T_9bf6c_row5_col4\" class=\"data row5 col4\" >833.33</td>\n",
       "      <td id=\"T_9bf6c_row5_col5\" class=\"data row5 col5\" >True</td>\n",
       "      <td id=\"T_9bf6c_row5_col6\" class=\"data row5 col6\" >0.010000</td>\n",
       "    </tr>\n",
       "    <tr>\n",
       "      <th id=\"T_9bf6c_level0_row6\" class=\"row_heading level0 row6\" >6</th>\n",
       "      <td id=\"T_9bf6c_row6_col0\" class=\"data row6 col0\" >2025-07-01</td>\n",
       "      <td id=\"T_9bf6c_row6_col1\" class=\"data row6 col1\" >2025-08-01</td>\n",
       "      <td id=\"T_9bf6c_row6_col2\" class=\"data row6 col2\" >0.083333</td>\n",
       "      <td id=\"T_9bf6c_row6_col3\" class=\"data row6 col3\" >2025-08-01</td>\n",
       "      <td id=\"T_9bf6c_row6_col4\" class=\"data row6 col4\" >833.33</td>\n",
       "      <td id=\"T_9bf6c_row6_col5\" class=\"data row6 col5\" >True</td>\n",
       "      <td id=\"T_9bf6c_row6_col6\" class=\"data row6 col6\" >0.010000</td>\n",
       "    </tr>\n",
       "    <tr>\n",
       "      <th id=\"T_9bf6c_level0_row7\" class=\"row_heading level0 row7\" >7</th>\n",
       "      <td id=\"T_9bf6c_row7_col0\" class=\"data row7 col0\" >2025-08-01</td>\n",
       "      <td id=\"T_9bf6c_row7_col1\" class=\"data row7 col1\" >2025-09-01</td>\n",
       "      <td id=\"T_9bf6c_row7_col2\" class=\"data row7 col2\" >0.083333</td>\n",
       "      <td id=\"T_9bf6c_row7_col3\" class=\"data row7 col3\" >2025-09-01</td>\n",
       "      <td id=\"T_9bf6c_row7_col4\" class=\"data row7 col4\" >833.33</td>\n",
       "      <td id=\"T_9bf6c_row7_col5\" class=\"data row7 col5\" >True</td>\n",
       "      <td id=\"T_9bf6c_row7_col6\" class=\"data row7 col6\" >0.010000</td>\n",
       "    </tr>\n",
       "    <tr>\n",
       "      <th id=\"T_9bf6c_level0_row8\" class=\"row_heading level0 row8\" >8</th>\n",
       "      <td id=\"T_9bf6c_row8_col0\" class=\"data row8 col0\" >2025-09-01</td>\n",
       "      <td id=\"T_9bf6c_row8_col1\" class=\"data row8 col1\" >2025-10-01</td>\n",
       "      <td id=\"T_9bf6c_row8_col2\" class=\"data row8 col2\" >0.083333</td>\n",
       "      <td id=\"T_9bf6c_row8_col3\" class=\"data row8 col3\" >2025-10-01</td>\n",
       "      <td id=\"T_9bf6c_row8_col4\" class=\"data row8 col4\" >833.33</td>\n",
       "      <td id=\"T_9bf6c_row8_col5\" class=\"data row8 col5\" >False</td>\n",
       "      <td id=\"T_9bf6c_row8_col6\" class=\"data row8 col6\" >0.010000</td>\n",
       "    </tr>\n",
       "    <tr>\n",
       "      <th id=\"T_9bf6c_level0_row9\" class=\"row_heading level0 row9\" >9</th>\n",
       "      <td id=\"T_9bf6c_row9_col0\" class=\"data row9 col0\" >2025-10-01</td>\n",
       "      <td id=\"T_9bf6c_row9_col1\" class=\"data row9 col1\" >2025-11-01</td>\n",
       "      <td id=\"T_9bf6c_row9_col2\" class=\"data row9 col2\" >0.083333</td>\n",
       "      <td id=\"T_9bf6c_row9_col3\" class=\"data row9 col3\" >2025-11-01</td>\n",
       "      <td id=\"T_9bf6c_row9_col4\" class=\"data row9 col4\" >833.33</td>\n",
       "      <td id=\"T_9bf6c_row9_col5\" class=\"data row9 col5\" >False</td>\n",
       "      <td id=\"T_9bf6c_row9_col6\" class=\"data row9 col6\" >0.010000</td>\n",
       "    </tr>\n",
       "    <tr>\n",
       "      <th id=\"T_9bf6c_level0_row10\" class=\"row_heading level0 row10\" >10</th>\n",
       "      <td id=\"T_9bf6c_row10_col0\" class=\"data row10 col0\" >2025-11-01</td>\n",
       "      <td id=\"T_9bf6c_row10_col1\" class=\"data row10 col1\" >2025-12-01</td>\n",
       "      <td id=\"T_9bf6c_row10_col2\" class=\"data row10 col2\" >0.083333</td>\n",
       "      <td id=\"T_9bf6c_row10_col3\" class=\"data row10 col3\" >2025-12-01</td>\n",
       "      <td id=\"T_9bf6c_row10_col4\" class=\"data row10 col4\" >833.33</td>\n",
       "      <td id=\"T_9bf6c_row10_col5\" class=\"data row10 col5\" >False</td>\n",
       "      <td id=\"T_9bf6c_row10_col6\" class=\"data row10 col6\" >0.010000</td>\n",
       "    </tr>\n",
       "    <tr>\n",
       "      <th id=\"T_9bf6c_level0_row11\" class=\"row_heading level0 row11\" >11</th>\n",
       "      <td id=\"T_9bf6c_row11_col0\" class=\"data row11 col0\" >2025-12-01</td>\n",
       "      <td id=\"T_9bf6c_row11_col1\" class=\"data row11 col1\" >2026-01-01</td>\n",
       "      <td id=\"T_9bf6c_row11_col2\" class=\"data row11 col2\" >0.083333</td>\n",
       "      <td id=\"T_9bf6c_row11_col3\" class=\"data row11 col3\" >2026-01-01</td>\n",
       "      <td id=\"T_9bf6c_row11_col4\" class=\"data row11 col4\" >833.33</td>\n",
       "      <td id=\"T_9bf6c_row11_col5\" class=\"data row11 col5\" >False</td>\n",
       "      <td id=\"T_9bf6c_row11_col6\" class=\"data row11 col6\" >0.010000</td>\n",
       "    </tr>\n",
       "    <tr>\n",
       "      <th id=\"T_9bf6c_level0_row12\" class=\"row_heading level0 row12\" >12</th>\n",
       "      <td id=\"T_9bf6c_row12_col0\" class=\"data row12 col0\" >nan</td>\n",
       "      <td id=\"T_9bf6c_row12_col1\" class=\"data row12 col1\" >nan</td>\n",
       "      <td id=\"T_9bf6c_row12_col2\" class=\"data row12 col2\" >1.000000</td>\n",
       "      <td id=\"T_9bf6c_row12_col3\" class=\"data row12 col3\" >2026-01-01</td>\n",
       "      <td id=\"T_9bf6c_row12_col4\" class=\"data row12 col4\" >1,000,000.00</td>\n",
       "      <td id=\"T_9bf6c_row12_col5\" class=\"data row12 col5\" >False</td>\n",
       "      <td id=\"T_9bf6c_row12_col6\" class=\"data row12 col6\" >1.000000</td>\n",
       "    </tr>\n",
       "  </tbody>\n",
       "</table>\n"
      ],
      "text/plain": [
       "<pandas.io.formats.style.Styler at 0x7f3bf409c320>"
      ]
     },
     "execution_count": 15,
     "metadata": {},
     "output_type": "execute_result"
    }
   ],
   "source": [
    "bnd1.cashflows_df().style.format({'amount':'{0:,.2f}'})"
   ]
  },
  {
   "cell_type": "code",
   "execution_count": 16,
   "id": "f5368dbc",
   "metadata": {},
   "outputs": [
    {
     "name": "stderr",
     "output_type": "stream",
     "text": [
      "/config/workspace/venv/lib/python3.12/site-packages/pydantic/main.py:463: UserWarning: Pydantic serializer warnings:\n",
      "  PydanticSerializationUnexpectedValue(Expected `decimal` - serialized value may not be as expected [input_value=100, input_type=int])\n",
      "  return self.__pydantic_serializer__.to_python(\n"
     ]
    },
    {
     "data": {
      "text/plain": [
       "{'notional': Decimal('1000000'),\n",
       " 'leg': {'notional': Decimal('1000000'),\n",
       "  'cpn': {'rate': Decimal('0.01'), 'is_constant': True, 'is_float': False},\n",
       "  'acc': {'start': datetime.date(2025, 1, 1),\n",
       "   'end': datetime.date(2026, 1, 1),\n",
       "   'dc': <DayCount.Thirty360: '30/360'>,\n",
       "   'freq': Decimal('12'),\n",
       "   'cal_accrual': <Calendar.NULL: 'null'>,\n",
       "   'cal_pay': <Calendar.NULL: 'null'>,\n",
       "   'period': None,\n",
       "   'bdc': <BusinessDayConvention.unadjusted: 'U'>,\n",
       "   'front_stub_not_back': True,\n",
       "   'eom': False},\n",
       "  'pay_delay': None},\n",
       " 'settle_days': 1,\n",
       " 'credit_index': None,\n",
       " 'face': 100,\n",
       " 'settle': None,\n",
       " 'redemption': None}"
      ]
     },
     "execution_count": 16,
     "metadata": {},
     "output_type": "execute_result"
    }
   ],
   "source": [
    "bnd1.model_dump()"
   ]
  },
  {
   "cell_type": "code",
   "execution_count": 18,
   "id": "028e1130",
   "metadata": {},
   "outputs": [
    {
     "name": "stderr",
     "output_type": "stream",
     "text": [
      "/config/workspace/venv/lib/python3.12/site-packages/pydantic/main.py:519: UserWarning: Pydantic serializer warnings:\n",
      "  PydanticSerializationUnexpectedValue(Expected `decimal` - serialized value may not be as expected [input_value=100, input_type=int])\n",
      "  return self.__pydantic_serializer__.to_json(\n"
     ]
    },
    {
     "data": {
      "text/plain": [
       "{'notional': Decimal('1000000'),\n",
       " 'leg': {'notional': Decimal('1000000'),\n",
       "  'cpn': {'rate': Decimal('0.01'), 'is_constant': True, 'is_float': False},\n",
       "  'acc': {'start': datetime.date(2025, 1, 1),\n",
       "   'end': datetime.date(2026, 1, 1),\n",
       "   'dc': <DayCount.Thirty360: '30/360'>,\n",
       "   'freq': Decimal('12'),\n",
       "   'cal_accrual': <Calendar.NULL: 'null'>,\n",
       "   'cal_pay': <Calendar.NULL: 'null'>,\n",
       "   'period': None,\n",
       "   'bdc': <BusinessDayConvention.unadjusted: 'U'>,\n",
       "   'front_stub_not_back': True,\n",
       "   'eom': False},\n",
       "  'pay_delay': None},\n",
       " 'settle_days': 1,\n",
       " 'credit_index': None,\n",
       " 'face': Decimal('100'),\n",
       " 'settle': None,\n",
       " 'redemption': None}"
      ]
     },
     "execution_count": 18,
     "metadata": {},
     "output_type": "execute_result"
    }
   ],
   "source": [
    "bnd2 = fs.Bond.model_validate_json(bnd1.model_dump_json())\n",
    "bnd2.model_dump()"
   ]
  },
  {
   "cell_type": "code",
   "execution_count": 19,
   "id": "6f65489b",
   "metadata": {},
   "outputs": [
    {
     "name": "stderr",
     "output_type": "stream",
     "text": [
      "/config/workspace/venv/lib/python3.12/site-packages/pydantic/main.py:463: UserWarning: Pydantic serializer warnings:\n",
      "  PydanticSerializationUnexpectedValue(Expected `decimal` - serialized value may not be as expected [input_value=100, input_type=int])\n",
      "  return self.__pydantic_serializer__.to_python(\n"
     ]
    },
    {
     "data": {
      "text/plain": [
       "{'notional': Decimal('1000000'),\n",
       " 'leg': {'notional': Decimal('1000000'),\n",
       "  'cpn': {'rate': Decimal('0.01'), 'is_constant': True, 'is_float': False},\n",
       "  'acc': {'start': datetime.date(2025, 1, 1),\n",
       "   'end': datetime.date(2026, 1, 1),\n",
       "   'dc': <DayCount.Thirty360: '30/360'>,\n",
       "   'freq': Decimal('12'),\n",
       "   'cal_accrual': <Calendar.NULL: 'null'>,\n",
       "   'cal_pay': <Calendar.NULL: 'null'>,\n",
       "   'period': None,\n",
       "   'bdc': <BusinessDayConvention.unadjusted: 'U'>,\n",
       "   'front_stub_not_back': True,\n",
       "   'eom': False},\n",
       "  'pay_delay': None},\n",
       " 'settle_days': 1,\n",
       " 'credit_index': None,\n",
       " 'face': 100,\n",
       " 'settle': None,\n",
       " 'redemption': None}"
      ]
     },
     "execution_count": 19,
     "metadata": {},
     "output_type": "execute_result"
    }
   ],
   "source": [
    "bnd1.model_dump()"
   ]
  },
  {
   "cell_type": "code",
   "execution_count": 20,
   "id": "9780ea5b",
   "metadata": {},
   "outputs": [
    {
     "data": {
      "text/plain": [
       "{'legs': ({'notional': Decimal('1000000'),\n",
       "   'cpn': {'rate': Decimal('0.035'), 'is_constant': True, 'is_float': False},\n",
       "   'acc': {'start': datetime.date(2025, 1, 1),\n",
       "    'end': {'period': '5Y'},\n",
       "    'dc': <DayCount.Actual360: 'act/360'>,\n",
       "    'freq': Decimal('1'),\n",
       "    'cal_accrual': <Calendar.NULL: 'null'>,\n",
       "    'cal_pay': <Calendar.US_SOFR: 'us/sofr'>,\n",
       "    'period': None,\n",
       "    'bdc': <BusinessDayConvention.following: 'F'>,\n",
       "    'front_stub_not_back': True,\n",
       "    'eom': False},\n",
       "   'pay_delay': None},\n",
       "  {'notional': Decimal('-1000000'),\n",
       "   'cpn': {'index': 'SOFR',\n",
       "    'type_': {'type_': 'overnight',\n",
       "     'pay_delay': {'period': '2D'},\n",
       "     'compounded_not_averaged': True},\n",
       "    'is_constant': False,\n",
       "    'is_float': True},\n",
       "   'acc': {'start': datetime.date(2025, 1, 1),\n",
       "    'end': {'period': '5Y'},\n",
       "    'dc': <DayCount.Actual360: 'act/360'>,\n",
       "    'freq': Decimal('1'),\n",
       "    'cal_accrual': <Calendar.NULL: 'null'>,\n",
       "    'cal_pay': <Calendar.US_SOFR: 'us/sofr'>,\n",
       "    'period': None,\n",
       "    'bdc': <BusinessDayConvention.following: 'F'>,\n",
       "    'front_stub_not_back': True,\n",
       "    'eom': False},\n",
       "   'pay_delay': None})}"
      ]
     },
     "metadata": {},
     "output_type": "display_data"
    }
   ],
   "source": [
    "swp_ntnl = 1_000_000\n",
    "swp_start = datetime.date(2025,1,1)\n",
    "swp_end = '5y'\n",
    "swp_index = 'SOFR'\n",
    "swp = fs.Swap.make_ois(\n",
    "    start=datetime.date(2025, 1, 1),\n",
    "    end='5y',\n",
    "    rate=3.5 / 100,\n",
    "    dc_fix=fs.DayCount.Actual360,\n",
    "    dc_float=fs.DayCount.Actual360,\n",
    "    freq_fix=1,\n",
    "    freq_float=1,\n",
    "    index='SOFR',\n",
    "    cal_pay=fs.Calendar.US_SOFR,\n",
    "    notional=1_000_000,\n",
    "    pay_delay=fs.Period(period='2d'),\n",
    ")\n",
    "display(swp.model_dump())"
   ]
  },
  {
   "cell_type": "code",
   "execution_count": 21,
   "id": "df35d5f5",
   "metadata": {},
   "outputs": [
    {
     "data": {
      "text/plain": [
       "{'legs': ({'notional': Decimal('1000000'),\n",
       "   'cpn': {'rate': Decimal('0.035'), 'is_constant': True, 'is_float': False},\n",
       "   'acc': {'start': datetime.date(2025, 1, 1),\n",
       "    'end': {'period': '5Y'},\n",
       "    'dc': <DayCount.Actual360: 'act/360'>,\n",
       "    'freq': Decimal('1'),\n",
       "    'cal_accrual': <Calendar.NULL: 'null'>,\n",
       "    'cal_pay': <Calendar.US_SOFR: 'us/sofr'>,\n",
       "    'period': None,\n",
       "    'bdc': <BusinessDayConvention.following: 'F'>,\n",
       "    'front_stub_not_back': True,\n",
       "    'eom': False},\n",
       "   'pay_delay': None},\n",
       "  {'notional': Decimal('-1000000'),\n",
       "   'cpn': {'index': 'SOFR',\n",
       "    'type_': {'type_': 'overnight',\n",
       "     'pay_delay': {'period': '2D'},\n",
       "     'compounded_not_averaged': True},\n",
       "    'is_constant': False,\n",
       "    'is_float': True},\n",
       "   'acc': {'start': datetime.date(2025, 1, 1),\n",
       "    'end': {'period': '5Y'},\n",
       "    'dc': <DayCount.Actual360: 'act/360'>,\n",
       "    'freq': Decimal('1'),\n",
       "    'cal_accrual': <Calendar.NULL: 'null'>,\n",
       "    'cal_pay': <Calendar.US_SOFR: 'us/sofr'>,\n",
       "    'period': None,\n",
       "    'bdc': <BusinessDayConvention.following: 'F'>,\n",
       "    'front_stub_not_back': True,\n",
       "    'eom': False},\n",
       "   'pay_delay': None})}"
      ]
     },
     "execution_count": 21,
     "metadata": {},
     "output_type": "execute_result"
    }
   ],
   "source": [
    "swp.model_dump()"
   ]
  },
  {
   "cell_type": "markdown",
   "id": "b8736d52",
   "metadata": {},
   "source": [
    "## bootstrap a treasury curve"
   ]
  },
  {
   "cell_type": "code",
   "execution_count": 22,
   "id": "7af41a19",
   "metadata": {},
   "outputs": [],
   "source": [
    "class SingleCurveConfig(pydantic.BaseModel):\n",
    "    name: Hashable\n",
    "    date: datetime.date\n",
    "    settle_days: int\n",
    "    dc: fs.DayCount\n",
    "    cal: fs.Calendar\n",
    "\n",
    "    # parallel_bump:fs.Quote = pydantic.Field(default_factory=fs.Quote)\n",
    "    resets: Dict[datetime.date, decimal.Decimal] = pydantic.Field(default_factory=dict)\n",
    "    helpers: Dict[str, Tuple[fs.Quote, Any]] = pydantic.Field(default_factory=dict)\n",
    "\n",
    "    ql_curve_raw: ql.YieldTermStructure|None=None\n",
    "    handle: ql.RelinkableYieldTermStructureHandle=pydantic.Field(default_factory=ql.RelinkableYieldTermStructureHandle)\n",
    "    index: ql.InterestRateIndex|None=None\n",
    "\n",
    "    class Config:\n",
    "        arbitrary_types_allowed = True\n",
    "    \n",
    "    def benchmarks(self)->Dict[str, fs.Quote]:\n",
    "        return { n:q[0] for n,q in self.helpers.items() }\n",
    "\n",
    "    def add_helper(self, name:str, quote:fs.Quote, helper:Any):\n",
    "        self.helpers[name] = (quote, helper)\n",
    "    \n",
    "    def add_reset(self, dt:datetime.date, rate:decimal.Decimal):\n",
    "        self.resets[dt] = rate\n",
    "        if self.index is not None:\n",
    "            self.index.addFixing( ql.Date.from_date(dt), float(rate))\n",
    "    \n",
    "    def build_quantlib_index(self):\n",
    "        usd = ql.USDCurrency()\n",
    "        self.index = ql.OvernightIndex(\n",
    "            self.name,\n",
    "            self.settle_days,\n",
    "            usd,\n",
    "            self.cal.as_ql(),\n",
    "            self.dc.as_ql,\n",
    "            self.handle\n",
    "        )\n",
    "        self.index.addFixings(\n",
    "            [ql.Date.from_date(x) for x in self.resets.keys()],\n",
    "            [float(x) for x in self.resets.values()],\n",
    "        )\n",
    "\n",
    "    def build_quantlib_curve(self):\n",
    "        instruments = [x[1] for x in self.helpers.values()]\n",
    "        self.ql_curve_raw = ql.PiecewiseFlatForward(\n",
    "            ql.Date.from_date(self.date),\n",
    "            instruments,\n",
    "            self.dc.as_ql,\n",
    "        )\n",
    "        self.handle.linkTo(self.ql_curve_raw)\n",
    "    \n",
    "    # def plot_forwards()\n",
    "\n",
    "# class CurveInterp(pydantic.BaseModel):\n",
    "#     order: List[Literal[0,1,2]]\n",
    "#     joint_date:\n",
    "    \n",
    "\n"
   ]
  },
  {
   "cell_type": "code",
   "execution_count": 23,
   "id": "a29b9240",
   "metadata": {},
   "outputs": [],
   "source": [
    "tsy_curve = SingleCurveConfig(\n",
    "    name='USGOVT',\n",
    "    date=datetime.date(2025, 1, 1),\n",
    "    settle_days=1,\n",
    "    dc=fs.DayCount.ActualActual,\n",
    "    cal=fs.Calendar.US_GovernmentBond,\n",
    ")"
   ]
  },
  {
   "cell_type": "code",
   "execution_count": 24,
   "id": "cd1cc951",
   "metadata": {},
   "outputs": [],
   "source": [
    "bond_tenors = ['1y','2y','5y','10y']\n",
    "bonds = [\n",
    "    fs.Bond(\n",
    "        credit_index='USGOVT',\n",
    "        notional=ntnl,\n",
    "        leg=fs.Leg(\n",
    "            notional=100,\n",
    "            cpn=fs.FixedRate(rate=5.0 / 100),\n",
    "            acc=fs.AccrualInfo(\n",
    "                start=datetime.date(2025,1,1),\n",
    "                end=ten,\n",
    "                dc=fs.DayCount.ActualActual,\n",
    "                freq=2,\n",
    "                bdc=fs.BusinessDayConvention.modified_following,\n",
    "            )\n",
    "        ),\n",
    "        settle_days=1\n",
    "    )\n",
    "    for ten in bond_tenors\n",
    "]\n",
    "\n",
    "# bond_prices = [100] * len(bond_tenors)\n",
    "bond_prices = [\n",
    "    100,\n",
    "    99,\n",
    "    98,\n",
    "    97,\n",
    "]\n",
    "bond_helpers = [bnd.as_quantlib_helper() for bnd in bonds]\n",
    "for px, q in zip(bond_prices, bond_helpers):\n",
    "    q[0].setValue(px)"
   ]
  },
  {
   "cell_type": "code",
   "execution_count": 26,
   "id": "614e954f",
   "metadata": {},
   "outputs": [],
   "source": [
    "for ten, qh in zip(bond_tenors, bond_helpers):\n",
    "    q,h = qh\n",
    "    tsy_curve.add_helper( ten, q, h)"
   ]
  },
  {
   "cell_type": "code",
   "execution_count": 27,
   "id": "503e85e7",
   "metadata": {},
   "outputs": [],
   "source": [
    "tsy_curve.build_quantlib_curve()\n",
    "tsy_curve.ql_curve_raw.enableExtrapolation()"
   ]
  },
  {
   "cell_type": "code",
   "execution_count": 28,
   "id": "099a4224",
   "metadata": {},
   "outputs": [],
   "source": [
    "# tsy_curve.plot(datetime.date(2025,1,1), datetime.date(2035,1,1))"
   ]
  },
  {
   "cell_type": "code",
   "execution_count": 29,
   "id": "db4b2e5f",
   "metadata": {},
   "outputs": [
    {
     "name": "stdout",
     "output_type": "stream",
     "text": [
      "PiecewiseConstantCorrelation\n",
      "PiecewiseConstantParameter\n",
      "PiecewiseConvexMonotoneForward\n",
      "PiecewiseConvexMonotoneZero\n",
      "PiecewiseCubicZero\n",
      "PiecewiseFlatForward\n",
      "PiecewiseFlatHazardRate\n",
      "PiecewiseForwardSpreadedTermStructure\n",
      "PiecewiseKrugerLogDiscount\n",
      "PiecewiseKrugerZero\n",
      "PiecewiseLinearForward\n",
      "PiecewiseLinearForwardSpreadedTermStructure\n",
      "PiecewiseLinearZero\n",
      "PiecewiseLogCubicDiscount\n",
      "PiecewiseLogLinearDiscount\n",
      "PiecewiseLogMixedLinearCubicDiscount\n",
      "PiecewiseLogParabolicCubicDiscount\n",
      "PiecewiseMonotonicLogParabolicCubicDiscount\n",
      "PiecewiseMonotonicParabolicCubicZero\n",
      "PiecewiseNaturalCubicZero\n",
      "PiecewiseNaturalLogCubicDiscount\n",
      "PiecewiseParabolicCubicZero\n",
      "PiecewiseSplineCubicDiscount\n",
      "PiecewiseTimeDependentHestonModel\n",
      "PiecewiseYoYInflation\n",
      "PiecewiseZeroInflation\n",
      "PiecewiseZeroSpreadedTermStructure\n"
     ]
    }
   ],
   "source": [
    "# swp_crv0_ql = ql.PiecewiseFlatForward(\n",
    "# )\n",
    "\n",
    "# help(ql.PiecewiseFlatForward)\n",
    "# PiecewiseFlatForward self\n",
    "#     Date referenceDate\n",
    "#     RateHelperVector instruments\n",
    "#     DayCounter dayCounter\n",
    "#     QuoteHandleVector jumps=std::vector< Handle< Quote > >()\n",
    "#     DateVector jumpDates=std::vector< Date >()\n",
    "#     BackwardFlat i=BackwardFlat()\n",
    "#     IterativeBootstrap b=_IterativeBootstrap()\n",
    "\n",
    "for x in dir(ql):\n",
    "    if 'piecewise' in x.lower():\n",
    "        print(x)"
   ]
  },
  {
   "cell_type": "code",
   "execution_count": null,
   "id": "cf79dc33",
   "metadata": {},
   "outputs": [],
   "source": [
    "# help(ql)"
   ]
  }
 ],
 "metadata": {
  "kernelspec": {
   "display_name": ".venv",
   "language": "python",
   "name": "python3"
  },
  "language_info": {
   "codemirror_mode": {
    "name": "ipython",
    "version": 3
   },
   "file_extension": ".py",
   "mimetype": "text/x-python",
   "name": "python",
   "nbconvert_exporter": "python",
   "pygments_lexer": "ipython3",
   "version": "3.11.13"
  }
 },
 "nbformat": 4,
 "nbformat_minor": 5
}
